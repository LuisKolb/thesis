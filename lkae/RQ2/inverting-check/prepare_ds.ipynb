{
 "cells": [
  {
   "cell_type": "code",
   "execution_count": 14,
   "metadata": {},
   "outputs": [],
   "source": [
    "import json\n",
    "\n",
    "from lkae.utils.data_loading import root_dir\n",
    "\n",
    "filepath = f'{root_dir}/data/English_dev.jsonl'\n",
    "\n",
    "\n",
    "with open(filepath, 'r') as file:\n",
    "    for rumor_inverted in file:\n",
    "        rumor_entry = json.loads(rumor_inverted)\n",
    "        if rumor_entry['label'] == 'REFUTES':\n",
    "            rumor_entry['label'] = 'SUPPORTS'\n",
    "        elif rumor_entry['label'] == 'SUPPORTS':\n",
    "            rumor_entry['label'] = 'REFUTES'\n",
    "        elif rumor_entry['label'] == 'NOT ENOUGH INFO':\n",
    "            continue\n",
    "        else:\n",
    "            raise ValueError(f'label {rumor_entry[\"label\"]} not recognized')\n",
    "        \n",
    "        # remove timeline\n",
    "        rumor_entry.pop('timeline')\n",
    "\n",
    "        with open(f'data/English_dev_inverted-{rumor_entry[\"id\"]}.json', 'w') as out_file:\n",
    "            out_file.write(json.dumps(rumor_entry, indent=2))"
   ]
  },
  {
   "cell_type": "code",
   "execution_count": null,
   "metadata": {},
   "outputs": [],
   "source": [
    "# manual editing required..."
   ]
  },
  {
   "cell_type": "code",
   "execution_count": 7,
   "metadata": {},
   "outputs": [
    {
     "name": "stdout",
     "output_type": "stream",
     "text": [
      "Wrote total lines: 19 to ./English_dev_inverted.jsonl\n"
     ]
    }
   ],
   "source": [
    "import json, os\n",
    "\n",
    "# combine all files into one\n",
    "\n",
    "filepath = f'./English_dev_inverted.jsonl' \n",
    "\n",
    "\n",
    "\n",
    "\n",
    "with open(filepath, 'w') as out_file:\n",
    "    n = 0\n",
    "    for file in os.listdir('./data'):\n",
    "        if file.endswith('.json'):\n",
    "            with open(f'./data/{file}', 'r') as f:\n",
    "                # load file as json, then append to jsonl file\n",
    "                rumor_inverted = json.load(f)\n",
    "                rumor_inverted['timeline'] = []\n",
    "                out_file.write(json.dumps(rumor_inverted) + '\\n')\n",
    "                n += 1\n",
    "        else:\n",
    "            continue\n",
    "\n",
    "print(f'Wrote total lines: {n} to {filepath}')"
   ]
  }
 ],
 "metadata": {
  "kernelspec": {
   "display_name": "thesis",
   "language": "python",
   "name": "python3"
  },
  "language_info": {
   "codemirror_mode": {
    "name": "ipython",
    "version": 3
   },
   "file_extension": ".py",
   "mimetype": "text/x-python",
   "name": "python",
   "nbconvert_exporter": "python",
   "pygments_lexer": "ipython3",
   "version": "3.10.14"
  }
 },
 "nbformat": 4,
 "nbformat_minor": 2
}
